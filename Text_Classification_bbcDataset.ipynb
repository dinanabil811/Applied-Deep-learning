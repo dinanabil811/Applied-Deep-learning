{
  "nbformat": 4,
  "nbformat_minor": 0,
  "metadata": {
    "colab": {
      "provenance": [],
      "authorship_tag": "ABX9TyOBgTLLycPYdZU0/9uBfOjN",
      "include_colab_link": true
    },
    "kernelspec": {
      "name": "python3",
      "display_name": "Python 3"
    },
    "language_info": {
      "name": "python"
    }
  },
  "cells": [
    {
      "cell_type": "markdown",
      "metadata": {
        "id": "view-in-github",
        "colab_type": "text"
      },
      "source": [
        "<a href=\"https://colab.research.google.com/github/dinanabil811/Applied-Deep-learning/blob/main/Text_Classification_bbcDataset.ipynb\" target=\"_parent\"><img src=\"https://colab.research.google.com/assets/colab-badge.svg\" alt=\"Open In Colab\"/></a>"
      ]
    },
    {
      "cell_type": "markdown",
      "source": [
        "# Import libraries"
      ],
      "metadata": {
        "id": "WVaW2h81GGxA"
      }
    },
    {
      "cell_type": "code",
      "execution_count": 38,
      "metadata": {
        "colab": {
          "base_uri": "https://localhost:8080/"
        },
        "id": "OVfDE4yNEC76",
        "outputId": "fcd78427-439e-4c3c-d462-fd90ed6a8692"
      },
      "outputs": [
        {
          "output_type": "stream",
          "name": "stderr",
          "text": [
            "[nltk_data] Downloading package stopwords to /root/nltk_data...\n",
            "[nltk_data]   Package stopwords is already up-to-date!\n"
          ]
        },
        {
          "output_type": "execute_result",
          "data": {
            "text/plain": [
              "True"
            ]
          },
          "metadata": {},
          "execution_count": 38
        }
      ],
      "source": [
        "import csv\n",
        "import pandas as pd\n",
        "import tensorflow as tf\n",
        "import numpy as np\n",
        "import nltk\n",
        "from nltk.corpus import stopwords\n",
        "from tensorflow.keras.preprocessing.text import Tokenizer\n",
        "from tensorflow.keras.preprocessing.sequence import pad_sequences\n",
        "\n",
        "nltk.download('stopwords')\n"
      ]
    },
    {
      "cell_type": "markdown",
      "source": [
        "# Reading dataset"
      ],
      "metadata": {
        "id": "UfaWuJ77GUq-"
      }
    },
    {
      "cell_type": "code",
      "source": [
        "#news=pd.read_csv(\"/content/bbc-text (1).csv\")"
      ],
      "metadata": {
        "id": "s-4ZuIlAEkwS"
      },
      "execution_count": 39,
      "outputs": []
    },
    {
      "cell_type": "code",
      "source": [
        "#news"
      ],
      "metadata": {
        "id": "XgPAH7dlFpnB"
      },
      "execution_count": 40,
      "outputs": []
    },
    {
      "cell_type": "markdown",
      "source": [
        "# Data cleaning and preparation"
      ],
      "metadata": {
        "id": "7hus2fpTGaM5"
      }
    },
    {
      "cell_type": "code",
      "source": [
        "vocab_size = 1000\n",
        "embedding_dim = 16\n",
        "max_length = 120\n",
        "trunc_type = 'post'\n",
        "padding_type = 'post'\n",
        "oov_tak = '<OOV>'\n",
        "training_portion = 0.8 # 80% training and 20% testing"
      ],
      "metadata": {
        "id": "Zw3B4kpBFxiH"
      },
      "execution_count": 41,
      "outputs": []
    },
    {
      "cell_type": "code",
      "source": [
        "sentences = []\n",
        "labels = []\n",
        "stops = set(stopwords.words('english'))\n",
        "print(len(stops))"
      ],
      "metadata": {
        "colab": {
          "base_uri": "https://localhost:8080/"
        },
        "id": "fhAwrx2mHAf2",
        "outputId": "d2a28d64-997e-4d62-ec44-b97c03304512"
      },
      "execution_count": 42,
      "outputs": [
        {
          "output_type": "stream",
          "name": "stdout",
          "text": [
            "179\n"
          ]
        }
      ]
    },
    {
      "cell_type": "code",
      "source": [
        "with open(\"/bbc-text (1).csv\" , 'r') as csvfile:\n",
        "  reader = csv.reader(csvfile , delimiter = ',')\n",
        "  next(reader)\n",
        "  for row in reader:\n",
        "    labels.append(row[0])\n",
        "    sentence = row[1]\n",
        "\n",
        "    for word in stops:\n",
        "      token= \" \" + word + \" \"\n",
        "      sentence = sentence.replace(token , \" \")\n",
        "\n",
        "    sentences.append(sentence)\n",
        "\n",
        "  print(len(labels))\n",
        "  print(len(sentences))\n",
        "  print(sentences[0])"
      ],
      "metadata": {
        "colab": {
          "base_uri": "https://localhost:8080/"
        },
        "id": "o3nG6KrcJIp4",
        "outputId": "2a1cdc32-46f3-442c-ba54-c38cef2996e0"
      },
      "execution_count": 43,
      "outputs": [
        {
          "output_type": "stream",
          "name": "stdout",
          "text": [
            "2225\n",
            "2225\n",
            "tv future hands viewers home theatre systems  plasma high-definition tvs  digital video recorders moving living room  way people watch tv radically different five years  time.  according expert panel gathered annual consumer electronics show las vegas discuss new technologies impact one favourite pastimes. us leading trend  programmes content delivered viewers via home networks  cable  satellite  telecoms companies  broadband service providers front rooms portable devices.  one talked-about technologies ces digital personal video recorders (dvr pvr). set-top boxes  like us tivo uk sky+ system  allow people record  store  play  pause forward wind tv programmes want.  essentially  technology allows much personalised tv. also built-in high-definition tv sets  big business japan us  slower take europe lack high-definition programming. people forward wind adverts  also forget abiding network channel schedules  putting together a-la-carte entertainment. us networks cable satellite companies worried means terms advertising revenues well  brand identity  viewer loyalty channels. although us leads technology moment  also concern raised europe  particularly growing uptake services like sky+.  happens today  see nine months years  time uk   adam hume  bbc broadcast futurologist told bbc news website. likes bbc  issues lost advertising revenue yet. pressing issue moment commercial uk broadcasters  brand loyalty important everyone.  talking content brands rather network brands   said tim hanlon  brand communications firm starcom mediavest.  reality broadband connections  anybody producer content.  added:  challenge is hard promote programme much choice.   means  said stacey jolna  senior vice president tv guide tv group  way people find content want watch simplified tv viewers. means networks  us terms  channels could take leaf google book search engine future  instead scheduler help people find want watch. kind channel model might work younger ipod generation used taking control gadgets play them. might suit everyone  panel recognised. older generations comfortable familiar schedules channel brands know getting. perhaps want much choice put hands  mr hanlon suggested.  end  kids diapers pushing buttons already - everything possible available   said mr hanlon.  ultimately  consumer tell market want.   50 000 new gadgets technologies showcased ces  many enhancing tv-watching experience. high-definition tv sets everywhere many new models lcd (liquid crystal display) tvs launched dvr capability built  instead external boxes. one example launched show humax 26-inch lcd tv 80-hour tivo dvr dvd recorder. one us biggest satellite tv companies  directtv  even launched branded dvr show 100-hours recording capability  instant replay  search function. set pause rewind tv 90 hours. microsoft chief bill gates announced pre-show keynote speech partnership tivo  called tivotogo  means people play recorded programmes windows pcs mobile devices. reflect increasing trend freeing multimedia people watch want  want.\n"
          ]
        }
      ]
    },
    {
      "cell_type": "code",
      "source": [
        "train_size = int(len(sentences) * training_portion)\n",
        "\n",
        "train_sentences = sentences[:train_size]\n",
        "train_labels = labels[:train_size]\n",
        "\n",
        "validation_sentences = sentences[train_size:]\n",
        "validation_labels =labels[train_size:]\n",
        "\n",
        "print(train_size)\n",
        "print(len(train_sentences))\n",
        "print(len(train_labels))\n",
        "print(len(validation_sentences))\n",
        "print(len(validation_labels))"
      ],
      "metadata": {
        "id": "fR_RmZiaLDtj",
        "colab": {
          "base_uri": "https://localhost:8080/"
        },
        "outputId": "2cd5f33c-f8b6-4efe-f559-901cba9705ae"
      },
      "execution_count": 44,
      "outputs": [
        {
          "output_type": "stream",
          "name": "stdout",
          "text": [
            "1780\n",
            "1780\n",
            "1780\n",
            "445\n",
            "445\n"
          ]
        }
      ]
    },
    {
      "cell_type": "code",
      "source": [
        "tokenizer = Tokenizer(num_words= vocab_size , oov_token= oov_tak) # برتب  علي اساسه الكلام\n",
        "\n",
        "tokenizer.fit_on_texts(train_sentences)\n",
        "\n",
        "word_index = tokenizer.word_index\n",
        "\n",
        "train_sequences = tokenizer.texts_to_sequences(train_sentences)\n",
        "\n",
        "train_padded = pad_sequences(train_sequences , padding =padding_type , maxlen = max_length )"
      ],
      "metadata": {
        "id": "D0Ma9pU8jrMN"
      },
      "execution_count": 45,
      "outputs": []
    },
    {
      "cell_type": "code",
      "source": [
        "print(len(train_sequences[0]))\n",
        "print(len(train_padded[0]))\n",
        "\n",
        "print(len(train_sequences[1]))\n",
        "print(len(train_padded[1]))\n",
        "\n",
        "print(len(train_sequences[10]))\n",
        "print(len(train_padded[10]))"
      ],
      "metadata": {
        "colab": {
          "base_uri": "https://localhost:8080/"
        },
        "id": "DE9QD7Nx2AL5",
        "outputId": "d0b00050-baf6-46a6-df57-98ba7439883e"
      },
      "execution_count": 46,
      "outputs": [
        {
          "output_type": "stream",
          "name": "stdout",
          "text": [
            "426\n",
            "120\n",
            "192\n",
            "120\n",
            "186\n",
            "120\n"
          ]
        }
      ]
    },
    {
      "cell_type": "code",
      "source": [
        "validation_sequences = tokenizer.texts_to_sequences(validation_sentences)\n",
        "validation_padded = pad_sequences(validation_sequences , padding =padding_type , maxlen = max_length )"
      ],
      "metadata": {
        "id": "aydXAPvt_e2Z"
      },
      "execution_count": 47,
      "outputs": []
    },
    {
      "cell_type": "code",
      "source": [
        "print(len(validation_sequences))\n",
        "print(validation_padded.shape)"
      ],
      "metadata": {
        "colab": {
          "base_uri": "https://localhost:8080/"
        },
        "id": "mHia3h0RAS_v",
        "outputId": "8d217bfd-5261-4302-f491-4a2066f5805c"
      },
      "execution_count": 48,
      "outputs": [
        {
          "output_type": "stream",
          "name": "stdout",
          "text": [
            "445\n",
            "(445, 120)\n"
          ]
        }
      ]
    },
    {
      "cell_type": "code",
      "source": [
        "label_tokenizer = Tokenizer()\n",
        "label_tokenizer.fit_on_texts(labels)\n",
        "\n",
        "training_label_sequences = np.array(label_tokenizer.texts_to_sequences(train_labels))\n",
        "validation_label_sequences = np.array(label_tokenizer.texts_to_sequences(validation_labels))\n",
        "\n"
      ],
      "metadata": {
        "id": "24lldLUGDGIF"
      },
      "execution_count": 49,
      "outputs": []
    },
    {
      "cell_type": "code",
      "source": [
        "print(training_label_sequences[0])\n",
        "print(training_label_sequences[1])\n",
        "print(training_label_sequences[2])\n",
        "print(training_label_sequences.shape)\n",
        "\n",
        "print(validation_label_sequences[0])\n",
        "print(validation_label_sequences[1])\n",
        "print(validation_label_sequences[2])\n",
        "print(validation_label_sequences.shape)"
      ],
      "metadata": {
        "colab": {
          "base_uri": "https://localhost:8080/"
        },
        "id": "ioHp-pXmKpUh",
        "outputId": "db271090-c8c5-40f5-c574-3b7462971991"
      },
      "execution_count": 50,
      "outputs": [
        {
          "output_type": "stream",
          "name": "stdout",
          "text": [
            "[4]\n",
            "[2]\n",
            "[1]\n",
            "(1780, 1)\n",
            "[5]\n",
            "[4]\n",
            "[3]\n",
            "(445, 1)\n"
          ]
        }
      ]
    },
    {
      "cell_type": "markdown",
      "source": [
        "# Building RNN model"
      ],
      "metadata": {
        "id": "LflXFOfbLzf1"
      }
    },
    {
      "cell_type": "code",
      "source": [
        "model = tf.keras.Sequential([\n",
        "    tf.keras.layers.Embedding(vocab_size , embedding_dim , input_length= max_length) ,\n",
        "    tf.keras.layers.GlobalAveragePooling1D() ,\n",
        "    tf.keras.layers.Dense(24 , activation=\"relu\") ,\n",
        "    tf.keras.layers.Dense(6, activation=\"softmax\")\n",
        "\n",
        "])\n",
        "\n",
        "model.compile(loss='sparse_categorical_crossentropy',optimizer='adam',metrics=['accuracy'])\n",
        "\n",
        "model.summary()"
      ],
      "metadata": {
        "id": "mLQh5LWSK5wh",
        "colab": {
          "base_uri": "https://localhost:8080/"
        },
        "outputId": "ca8852f9-9e3d-4e2b-a465-2b1c468bfb8e"
      },
      "execution_count": 51,
      "outputs": [
        {
          "output_type": "stream",
          "name": "stdout",
          "text": [
            "Model: \"sequential_3\"\n",
            "_________________________________________________________________\n",
            " Layer (type)                Output Shape              Param #   \n",
            "=================================================================\n",
            " embedding_3 (Embedding)     (None, 120, 16)           16000     \n",
            "                                                                 \n",
            " global_average_pooling1d_3  (None, 16)                0         \n",
            "  (GlobalAveragePooling1D)                                       \n",
            "                                                                 \n",
            " dense_6 (Dense)             (None, 24)                408       \n",
            "                                                                 \n",
            " dense_7 (Dense)             (None, 6)                 150       \n",
            "                                                                 \n",
            "=================================================================\n",
            "Total params: 16558 (64.68 KB)\n",
            "Trainable params: 16558 (64.68 KB)\n",
            "Non-trainable params: 0 (0.00 Byte)\n",
            "_________________________________________________________________\n"
          ]
        }
      ]
    },
    {
      "cell_type": "code",
      "source": [
        "num_epochs = 30\n",
        "history = model.fit(train_padded, training_label_sequences, epochs=num_epochs, validation_data=(validation_padded, validation_label_sequences), verbose=2)\n",
        ""
      ],
      "metadata": {
        "colab": {
          "base_uri": "https://localhost:8080/"
        },
        "id": "V_0_ykXplgY1",
        "outputId": "8de12d48-994a-4ced-ba13-d01cc83091ae"
      },
      "execution_count": 53,
      "outputs": [
        {
          "output_type": "stream",
          "name": "stdout",
          "text": [
            "Epoch 1/30\n",
            "56/56 - 1s - loss: 1.7720 - accuracy: 0.2146 - val_loss: 1.7459 - val_accuracy: 0.1933 - 1s/epoch - 25ms/step\n",
            "Epoch 2/30\n",
            "56/56 - 0s - loss: 1.7123 - accuracy: 0.2079 - val_loss: 1.6702 - val_accuracy: 0.2112 - 222ms/epoch - 4ms/step\n",
            "Epoch 3/30\n",
            "56/56 - 0s - loss: 1.6150 - accuracy: 0.4388 - val_loss: 1.5572 - val_accuracy: 0.5640 - 255ms/epoch - 5ms/step\n",
            "Epoch 4/30\n",
            "56/56 - 0s - loss: 1.4745 - accuracy: 0.6871 - val_loss: 1.3977 - val_accuracy: 0.6449 - 256ms/epoch - 5ms/step\n",
            "Epoch 5/30\n",
            "56/56 - 0s - loss: 1.2837 - accuracy: 0.6955 - val_loss: 1.2065 - val_accuracy: 0.6225 - 239ms/epoch - 4ms/step\n",
            "Epoch 6/30\n",
            "56/56 - 0s - loss: 1.0827 - accuracy: 0.6860 - val_loss: 1.0263 - val_accuracy: 0.6809 - 190ms/epoch - 3ms/step\n",
            "Epoch 7/30\n",
            "56/56 - 0s - loss: 0.9026 - accuracy: 0.7983 - val_loss: 0.8700 - val_accuracy: 0.8180 - 224ms/epoch - 4ms/step\n",
            "Epoch 8/30\n",
            "56/56 - 0s - loss: 0.7517 - accuracy: 0.8787 - val_loss: 0.7425 - val_accuracy: 0.8562 - 201ms/epoch - 4ms/step\n",
            "Epoch 9/30\n",
            "56/56 - 0s - loss: 0.6297 - accuracy: 0.9135 - val_loss: 0.6377 - val_accuracy: 0.8831 - 225ms/epoch - 4ms/step\n",
            "Epoch 10/30\n",
            "56/56 - 0s - loss: 0.5247 - accuracy: 0.9264 - val_loss: 0.5399 - val_accuracy: 0.9079 - 209ms/epoch - 4ms/step\n",
            "Epoch 11/30\n",
            "56/56 - 0s - loss: 0.4353 - accuracy: 0.9354 - val_loss: 0.4622 - val_accuracy: 0.9101 - 234ms/epoch - 4ms/step\n",
            "Epoch 12/30\n",
            "56/56 - 0s - loss: 0.3612 - accuracy: 0.9371 - val_loss: 0.3992 - val_accuracy: 0.9124 - 247ms/epoch - 4ms/step\n",
            "Epoch 13/30\n",
            "56/56 - 0s - loss: 0.3047 - accuracy: 0.9472 - val_loss: 0.3552 - val_accuracy: 0.9169 - 179ms/epoch - 3ms/step\n",
            "Epoch 14/30\n",
            "56/56 - 0s - loss: 0.2606 - accuracy: 0.9522 - val_loss: 0.3202 - val_accuracy: 0.9169 - 227ms/epoch - 4ms/step\n",
            "Epoch 15/30\n",
            "56/56 - 0s - loss: 0.2263 - accuracy: 0.9596 - val_loss: 0.2908 - val_accuracy: 0.9213 - 212ms/epoch - 4ms/step\n",
            "Epoch 16/30\n",
            "56/56 - 0s - loss: 0.1985 - accuracy: 0.9657 - val_loss: 0.2696 - val_accuracy: 0.9213 - 222ms/epoch - 4ms/step\n",
            "Epoch 17/30\n",
            "56/56 - 0s - loss: 0.1757 - accuracy: 0.9674 - val_loss: 0.2532 - val_accuracy: 0.9236 - 199ms/epoch - 4ms/step\n",
            "Epoch 18/30\n",
            "56/56 - 0s - loss: 0.1567 - accuracy: 0.9730 - val_loss: 0.2387 - val_accuracy: 0.9236 - 199ms/epoch - 4ms/step\n",
            "Epoch 19/30\n",
            "56/56 - 0s - loss: 0.1412 - accuracy: 0.9770 - val_loss: 0.2294 - val_accuracy: 0.9303 - 245ms/epoch - 4ms/step\n",
            "Epoch 20/30\n",
            "56/56 - 0s - loss: 0.1272 - accuracy: 0.9798 - val_loss: 0.2155 - val_accuracy: 0.9258 - 234ms/epoch - 4ms/step\n",
            "Epoch 21/30\n",
            "56/56 - 0s - loss: 0.1151 - accuracy: 0.9809 - val_loss: 0.2070 - val_accuracy: 0.9281 - 181ms/epoch - 3ms/step\n",
            "Epoch 22/30\n",
            "56/56 - 0s - loss: 0.1041 - accuracy: 0.9815 - val_loss: 0.2030 - val_accuracy: 0.9326 - 211ms/epoch - 4ms/step\n",
            "Epoch 23/30\n",
            "56/56 - 0s - loss: 0.0946 - accuracy: 0.9837 - val_loss: 0.1967 - val_accuracy: 0.9303 - 185ms/epoch - 3ms/step\n",
            "Epoch 24/30\n",
            "56/56 - 0s - loss: 0.0872 - accuracy: 0.9865 - val_loss: 0.1892 - val_accuracy: 0.9303 - 191ms/epoch - 3ms/step\n",
            "Epoch 25/30\n",
            "56/56 - 0s - loss: 0.0786 - accuracy: 0.9888 - val_loss: 0.1841 - val_accuracy: 0.9348 - 266ms/epoch - 5ms/step\n",
            "Epoch 26/30\n",
            "56/56 - 0s - loss: 0.0725 - accuracy: 0.9904 - val_loss: 0.1837 - val_accuracy: 0.9326 - 307ms/epoch - 5ms/step\n",
            "Epoch 27/30\n",
            "56/56 - 0s - loss: 0.0660 - accuracy: 0.9904 - val_loss: 0.1792 - val_accuracy: 0.9303 - 282ms/epoch - 5ms/step\n",
            "Epoch 28/30\n",
            "56/56 - 0s - loss: 0.0605 - accuracy: 0.9927 - val_loss: 0.1767 - val_accuracy: 0.9348 - 268ms/epoch - 5ms/step\n",
            "Epoch 29/30\n",
            "56/56 - 0s - loss: 0.0554 - accuracy: 0.9938 - val_loss: 0.1728 - val_accuracy: 0.9348 - 269ms/epoch - 5ms/step\n",
            "Epoch 30/30\n",
            "56/56 - 0s - loss: 0.0507 - accuracy: 0.9955 - val_loss: 0.1710 - val_accuracy: 0.9348 - 281ms/epoch - 5ms/step\n"
          ]
        }
      ]
    },
    {
      "cell_type": "code",
      "source": [
        "import matplotlib.pyplot as plt\n",
        "def plot_graphs(history , string):\n",
        "  plt.plot(history.history[string])\n",
        "  plt.plot(history.history['val_'+string])\n",
        "  plt.xlabel('Epochs')\n",
        "  plt.ylabel(string)\n",
        "  plt.legend(string , 'val_' +string)\n",
        "  plt.show()\n",
        "\n",
        "plot_graphs(history , 'accuracy')\n",
        "plot_graphs(history , 'loss')\n",
        "# اول جراف طلعوا الاتنين قريبين من بعض معني كده ان مافيش overfitting يعني المودل متشبعش من الداتا معني كده ان الموديل reusable اقدر استخدمه و اعمل بيه classification صح"
      ],
      "metadata": {
        "colab": {
          "base_uri": "https://localhost:8080/",
          "height": 1000
        },
        "id": "4xgwZ2BCeH_1",
        "outputId": "c6ba47d3-cb92-465b-9a02-cac6a5909850"
      },
      "execution_count": 56,
      "outputs": [
        {
          "output_type": "stream",
          "name": "stderr",
          "text": [
            "<ipython-input-56-b028d2a64d29>:7: UserWarning: The label '_' of 'u' starts with '_'. It is thus excluded from the legend.\n",
            "  plt.legend(string , 'val_' +string)\n",
            "<ipython-input-56-b028d2a64d29>:7: UserWarning: Legend does not support handles for str instances.\n",
            "A proxy artist may be used instead.\n",
            "See: https://matplotlib.org/stable/tutorials/intermediate/legend_guide.html#controlling-the-legend-entries\n",
            "  plt.legend(string , 'val_' +string)\n"
          ]
        },
        {
          "output_type": "display_data",
          "data": {
            "text/plain": [
              "<Figure size 640x480 with 1 Axes>"
            ],
            "image/png": "[encoded data removed]"
          },
          "metadata": {}
        },
        {
          "output_type": "stream",
          "name": "stderr",
          "text": [
            "<ipython-input-56-b028d2a64d29>:7: UserWarning: The label '_' of 's' starts with '_'. It is thus excluded from the legend.\n",
            "  plt.legend(string , 'val_' +string)\n"
          ]
        },
        {
          "output_type": "display_data",
          "data": {
            "text/plain": [
              "<Figure size 640x480 with 1 Axes>"
            ],
            "image/png": "[encoded data removed]"
          },
          "metadata": {}
        }
      ]
    },
    {
      "cell_type": "code",
      "source": [],
      "metadata": {
        "id": "wg7yYiAKo103"
      },
      "execution_count": null,
      "outputs": []
    }
  ]
}