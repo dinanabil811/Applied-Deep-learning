{
  "cells": [
    {
      "cell_type": "markdown",
      "metadata": {
        "id": "view-in-github",
        "colab_type": "text"
      },
      "source": [
        "<a href=\"https://colab.research.google.com/github/dinanabil811/Applied-Deep-learning/blob/main/Scipy.ipynb\" target=\"_parent\"><img src=\"https://colab.research.google.com/assets/colab-badge.svg\" alt=\"Open In Colab\"/></a>"
      ]
    },
    {
      "cell_type": "code",
      "execution_count": null,
      "metadata": {
        "colab": {
          "background_save": true
        },
        "id": "NargRl13mKsb"
      },
      "outputs": [],
      "source": [
        "from scipy import *\n",
        "from imageio import *"
      ]
    },
    {
      "cell_type": "code",
      "execution_count": null,
      "metadata": {
        "id": "7cFK9YIe0ZZ5"
      },
      "outputs": [],
      "source": []
    },
    {
      "cell_type": "markdown",
      "metadata": {
        "id": "B6AQVdPg0FuU"
      },
      "source": [
        "# Read images"
      ]
    },
    {
      "cell_type": "code",
      "execution_count": null,
      "metadata": {
        "colab": {
          "base_uri": "https://localhost:8080/"
        },
        "id": "N8xk7snCpjq1",
        "outputId": "e1300bf2-034e-4c8c-a216-47adbcb7437c"
      },
      "outputs": [
        {
          "name": "stderr",
          "output_type": "stream",
          "text": [
            "<ipython-input-14-9c8acb14b90d>:1: DeprecationWarning: Starting with ImageIO v3 the behavior of this function will switch to that of iio.v3.imread. To keep the current behavior (and make this warning disappear) use `import imageio.v2 as imageio` or call `imageio.v2.imread` directly.\n",
            "  img=imread(\"/content/bmw.jfif\")\n"
          ]
        }
      ],
      "source": [
        "img=imread(\"/content/bmw.jfif\")"
      ]
    },
    {
      "cell_type": "code",
      "execution_count": null,
      "metadata": {
        "colab": {
          "base_uri": "https://localhost:8080/"
        },
        "id": "30dW-8-kzSk2",
        "outputId": "a0cfe8f7-8987-4cba-b560-de9d21a3d29f"
      },
      "outputs": [
        {
          "name": "stdout",
          "output_type": "stream",
          "text": [
            "uint8 (234, 310, 3)\n"
          ]
        }
      ],
      "source": [
        "print(img.dtype , img.shape)"
      ]
    },
    {
      "cell_type": "markdown",
      "metadata": {
        "id": "XFaY-mJf0JBZ"
      },
      "source": [
        "# Resize images"
      ]
    },
    {
      "cell_type": "code",
      "execution_count": null,
      "metadata": {
        "id": "_2BWTdv3zxYF"
      },
      "outputs": [],
      "source": [
        "img1=imresize"
      ]
    }
  ],
  "metadata": {
    "colab": {
      "provenance": [],
      "authorship_tag": "ABX9TyPEYJGdpBtW5RGExH6CVRpu",
      "include_colab_link": true
    },
    "kernelspec": {
      "display_name": "Python 3",
      "name": "python3"
    },
    "language_info": {
      "name": "python"
    }
  },
  "nbformat": 4,
  "nbformat_minor": 0
}